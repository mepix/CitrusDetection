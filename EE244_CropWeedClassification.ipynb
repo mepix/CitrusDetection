{
  "nbformat": 4,
  "nbformat_minor": 0,
  "metadata": {
    "colab": {
      "name": "EE244-CropWeedClassification.ipynb",
      "provenance": [],
      "collapsed_sections": [],
      "authorship_tag": "ABX9TyOmTtKAsk+TG+orG36XfTe+",
      "include_colab_link": true
    },
    "kernelspec": {
      "name": "python3",
      "display_name": "Python 3"
    },
    "language_info": {
      "name": "python"
    }
  },
  "cells": [
    {
      "cell_type": "markdown",
      "metadata": {
        "id": "view-in-github",
        "colab_type": "text"
      },
      "source": [
        "<a href=\"https://colab.research.google.com/github/mepix/CitrusDetection/blob/main/EE244_CropWeedClassification.ipynb\" target=\"_parent\"><img src=\"https://colab.research.google.com/assets/colab-badge.svg\" alt=\"Open In Colab\"/></a>"
      ]
    },
    {
      "cell_type": "markdown",
      "metadata": {
        "id": "39pEHqH5QVAg"
      },
      "source": [
        "This code is modified from the [TorchVision Tutorial](https://pytorch.org/tutorials/intermediate/torchvision_tutorial.html) to work with the Sugar Beets Dataset"
      ]
    },
    {
      "cell_type": "code",
      "metadata": {
        "id": "cMSGpMtJ6rVh"
      },
      "source": [
        "# Sample code from the TorchVision 0.3 Object Detection Finetuning Tutorial\n",
        "# http://pytorch.org/tutorials/intermediate/torchvision_tutorial.html\n",
        "\n",
        "import os\n",
        "import numpy as np\n",
        "import torch\n",
        "from PIL import Image\n",
        "\n",
        "import torchvision\n",
        "from torchvision.models.detection.faster_rcnn import FastRCNNPredictor\n",
        "from torchvision.models.detection.mask_rcnn import MaskRCNNPredictor\n",
        "\n",
        "from engine import train_one_epoch, evaluate\n",
        "import utils\n",
        "import transforms as T"
      ],
      "execution_count": null,
      "outputs": []
    }
  ]
}